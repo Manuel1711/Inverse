{
 "cells": [
  {
   "cell_type": "code",
   "execution_count": 11,
   "id": "1262dce8",
   "metadata": {},
   "outputs": [
    {
     "name": "stdout",
     "output_type": "stream",
     "text": [
      "[[-1.5707661  -0.8301399  -0.47588944 ... -0.17262261 -0.13997368\n",
      "  -0.14327287]\n",
      " [-1.52675863 -0.83144993 -0.45621393 ... -0.16825485 -0.14800716\n",
      "  -0.13981941]\n",
      " [-1.51383477 -0.83826285 -0.49215448 ... -0.14555694 -0.12671015\n",
      "  -0.13621179]\n",
      " ...\n",
      " [-1.55399226 -0.71360204 -0.42110526 ... -0.15586985 -0.14527553\n",
      "  -0.13894407]\n",
      " [-1.57760824 -0.84360261 -0.44691149 ... -0.15616462 -0.137927\n",
      "  -0.14081824]\n",
      " [-1.64184435 -0.88356373 -0.47277591 ... -0.15350559 -0.15166492\n",
      "  -0.13423734]]\n"
     ]
    }
   ],
   "source": [
    "import numpy as np\n",
    "\n",
    "\n",
    "mean_vector = np.array([-1.57, -0.79, -0.46, -0.290, -0.21, -0.164, -0.144, -0.141])\n",
    "Sigma = np.array([0.08, 0.06, 0.02, 0.010, 0.010, 0.010, 0.010, 0.010])\n",
    "\n",
    "cov_matrix = np.diag(Sigma**2)\n",
    "\n",
    "# generare i dati\n",
    "num_samples = 1000  # numero di campioni da generare\n",
    "data = np.random.multivariate_normal(mean_vector, cov_matrix, num_samples)\n",
    "\n",
    "print(data)\n",
    "\n",
    "# salvare i dati su file\n",
    "np.savetxt('data.txt', data)"
   ]
  },
  {
   "cell_type": "code",
   "execution_count": null,
   "id": "5f681b85",
   "metadata": {},
   "outputs": [],
   "source": []
  }
 ],
 "metadata": {
  "kernelspec": {
   "display_name": "Python 3 (ipykernel)",
   "language": "python",
   "name": "python3"
  },
  "language_info": {
   "codemirror_mode": {
    "name": "ipython",
    "version": 3
   },
   "file_extension": ".py",
   "mimetype": "text/x-python",
   "name": "python",
   "nbconvert_exporter": "python",
   "pygments_lexer": "ipython3",
   "version": "3.11.2"
  }
 },
 "nbformat": 4,
 "nbformat_minor": 5
}
