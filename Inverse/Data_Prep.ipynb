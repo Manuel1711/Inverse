{
 "cells": [
  {
   "cell_type": "code",
   "execution_count": 51,
   "id": "95dd50ae",
   "metadata": {},
   "outputs": [
    {
     "name": "stdout",
     "output_type": "stream",
     "text": [
      "Nt = 10 , NConf = 56 , TotDim =  5040\n",
      "5040\n",
      "-0.1414293029516088\n",
      "[-0.38895984 -0.14014544 -0.01653322 -0.01411481 -0.00263195 -0.0070108\n",
      " -0.00277535 -0.01446304 -0.0169229  -0.1414293 ]\n",
      "Dimensions of corr_2:  56  x  10  x  3  x  3\n",
      "-0.1414293029516088 -0.1412132072258582\n",
      "[-0.14267501 -0.14267501 -0.14267501 -0.14267501 -0.14267501 -0.14267501\n",
      " -0.14267501 -0.14267501 -0.14267501 -0.14267501]\n"
     ]
    }
   ],
   "source": [
    "import numpy as np\n",
    "\n",
    "nfl = 3\n",
    "ndir = 3\n",
    "corr = []\n",
    "\n",
    "#Reading inputs\n",
    "with open(\"/Users/manuel/Desktop/pisa_corrs/pisa_b3.85/nissa_mu0.140/meson_corrs\", \"r\") as f:\n",
    "    read_next = False\n",
    "    Nt = 0\n",
    "    tot = 0\n",
    "    for line in f:\n",
    "        if (\"iop 2\" in line or \"iop 3\" in line or \"iop 4\" in line):\n",
    "            read_next = True \n",
    "        elif (\"#\" in line and (\"iop 2\" not in line or \"iop 3\" not in line or \"iop 4\" not in line)):\n",
    "            read_next = False\n",
    "        elif read_next:\n",
    "            if not line.strip():\n",
    "                Nt = 0;\n",
    "            if line.strip():\n",
    "                columns = line.split()\n",
    "                corr.append(columns[1])\n",
    "                Nt += 1\n",
    "                tot +=1\n",
    "                #print(columns[1])\n",
    "                \n",
    "             \n",
    "NConf = int(tot/(nfl*ndir*Nt))\n",
    "print(\"Nt =\", Nt,\", NConf =\",NConf, \", TotDim = \", tot)\n",
    "print(len(corr))\n",
    "\n",
    "print(corr[9])\n",
    "\n",
    "Ar = np.zeros(10)\n",
    "for i in range(10):\n",
    "    Ar[i] = corr[i]\n",
    "print(Ar)\n",
    "    \n",
    "#Dividing them in categories \n",
    "corr_2 = np.zeros((int(NConf), Nt, nfl, ndir))\n",
    "for c in range(int(NConf)):\n",
    "     for k in range(ndir):\n",
    "        for j in range(nfl):\n",
    "            for i in range(Nt):\n",
    "                corr_2[c][i][j][k] = corr[c*Nt*nfl*ndir + k*nfl*Nt + j*Nt + i]\n",
    "\n",
    "            \n",
    "print(\"Dimensions of corr_2: \", len(corr_2), \" x \", len(corr_2[0]), \" x \", len(corr_2[0][0]), \" x \", len(corr_2[0][0][0]))\n",
    "\n",
    "print(corr_2[0][9][0][0], corr_2[55][9][2][2])\n",
    "\n",
    "Ar2 = np.zeros(10)\n",
    "for i in range(10):\n",
    "    Ar2[i] = corr_2[10][9][0][2]\n",
    "print(Ar2)"
   ]
  },
  {
   "cell_type": "code",
   "execution_count": null,
   "id": "083a6c6d",
   "metadata": {},
   "outputs": [
    {
     "name": "stdout",
     "output_type": "stream",
     "text": [
      "(1000, 56)\n",
      "0 54\n"
     ]
    }
   ],
   "source": [
    "#Bootstrap resampling\n",
    "import tensorflow as tf\n",
    "\n",
    "\n",
    "Nboot = 1000\n",
    "corr_boot = np.zeros((Nboot, int(NConf), Nt, nfl, ndir))\n",
    "\n",
    "b_index = tf.random.uniform([Nboot, NConf], minval=0, maxval=NConf-1, dtype=tf.int32).numpy()\n",
    "print(b_index.shape)\n",
    "print(np.amin(b_index), np.amax(b_index))\n",
    "\n",
    "for b in range(Nboot):\n",
    "    for c in range(int(NConf)):\n",
    "        for i in range(Nt):\n",
    "            for j in range(nfl):\n",
    "                for k in range(ndir):\n",
    "                    corr_boot[b][c][i][j][k] = corr_2[b_index[b][c]][i][j][k]"
   ]
  },
  {
   "cell_type": "code",
   "execution_count": null,
   "id": "93554785",
   "metadata": {},
   "outputs": [],
   "source": [
    "print(corr_boot[19][0][0][0][2])"
   ]
  },
  {
   "cell_type": "code",
   "execution_count": null,
   "id": "82a2ebc6",
   "metadata": {},
   "outputs": [],
   "source": [
    "from scipy import stats\n",
    "#Operations on the array\n",
    "\n",
    "#Average on directions\n",
    "b = np.mean(corr_boot, axis=4)\n",
    "print(b.shape)\n",
    "\n",
    "#Weighted sum on flavours\n",
    "weights= np.array((4/9, 1/9, 1/9))\n",
    "print(weights)\n",
    "bm = np.tensordot(b, weights, axes=(-1, 0))\n",
    "print(bm.shape)\n",
    "\n",
    "#Average on configurations\n",
    "cbfin = np.mean(bm, axis=1)/4\n",
    "print(cbfin.shape)\n",
    "\n",
    "#Bootstrap Mean and Sigma\n",
    "def mean(arr):\n",
    "    return sum(arr)/len(arr)\n",
    "def std_dev(arr):\n",
    "    arr_mean = mean(arr)\n",
    "    return (sum([(i - arr_mean)**2 for i in arr]) / (len(arr)-1))**0.5\n",
    "\n",
    "cmean = np.zeros(10)\n",
    "csigma = np.zeros(10)\n",
    "for i in range(Nt):\n",
    "    cmean[i] = mean(cbfin[:,i])\n",
    "    csigma[i] = std_dev(cbfin[:,i])\n",
    "\n",
    "print(cmean)\n",
    "print(csigma)"
   ]
  },
  {
   "cell_type": "code",
   "execution_count": null,
   "id": "7000b620",
   "metadata": {},
   "outputs": [],
   "source": [
    "import matplotlib.pyplot as plt\n",
    "\n",
    "\n",
    "t = np.array(range(0,Nt,1))\n",
    "plt.errorbar(t, cmean, yerr=csigma, fmt='o', capsize=5)\n",
    "plt.xlabel('t')\n",
    "plt.ylabel('C(t)')\n",
    "plt.show()"
   ]
  }
 ],
 "metadata": {
  "kernelspec": {
   "display_name": "Python 3 (ipykernel)",
   "language": "python",
   "name": "python3"
  },
  "language_info": {
   "codemirror_mode": {
    "name": "ipython",
    "version": 3
   },
   "file_extension": ".py",
   "mimetype": "text/x-python",
   "name": "python",
   "nbconvert_exporter": "python",
   "pygments_lexer": "ipython3",
   "version": "3.11.2"
  }
 },
 "nbformat": 4,
 "nbformat_minor": 5
}
