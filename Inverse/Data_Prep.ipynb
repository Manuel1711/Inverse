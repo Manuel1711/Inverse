{
 "cells": [
  {
   "cell_type": "code",
   "execution_count": 21,
   "id": "95dd50ae",
   "metadata": {},
   "outputs": [
    {
     "name": "stdout",
     "output_type": "stream",
     "text": [
      "Nt = 10 , NConf = 56 , TotDim =  5040\n",
      "5040\n",
      "-0.1414293029516088\n",
      "[-0.38895984 -0.14014544 -0.01653322 -0.01411481 -0.00263195 -0.0070108\n",
      " -0.00277535 -0.01446304 -0.0169229  -0.1414293 ]\n",
      "Dimensions of corr_2:  56  x  10  x  3  x  3\n",
      "-0.1414293029516088 -0.1412132072258582\n",
      "[-0.14267501 -0.14267501 -0.14267501 -0.14267501 -0.14267501 -0.14267501\n",
      " -0.14267501 -0.14267501 -0.14267501 -0.14267501]\n"
     ]
    }
   ],
   "source": [
    "import numpy as np\n",
    "\n",
    "nfl = 3\n",
    "ndir = 3\n",
    "corr = []\n",
    "\n",
    "#Reading inputs\n",
    "with open(\"/Users/manuel/Desktop/pisa_corrs/pisa_b3.85/nissa_mu0.140/meson_corrs\", \"r\") as f:\n",
    "    read_next = False\n",
    "    Nt = 0\n",
    "    tot = 0\n",
    "    for line in f:\n",
    "        if (\"iop 2\" in line or \"iop 3\" in line or \"iop 4\" in line):\n",
    "            read_next = True \n",
    "        elif (\"#\" in line and (\"iop 2\" not in line or \"iop 3\" not in line or \"iop 4\" not in line)):\n",
    "            read_next = False\n",
    "        elif read_next:\n",
    "            if not line.strip():\n",
    "                Nt = 0;\n",
    "            if line.strip():\n",
    "                columns = line.split()\n",
    "                corr.append(columns[1])\n",
    "                Nt += 1\n",
    "                tot +=1\n",
    "                #print(columns[1])\n",
    "                \n",
    "             \n",
    "NConf = int(tot/(nfl*ndir*Nt))\n",
    "print(\"Nt =\", Nt,\", NConf =\",NConf, \", TotDim = \", tot)\n",
    "print(len(corr))\n",
    "\n",
    "print(corr[9])\n",
    "\n",
    "Ar = np.zeros(10)\n",
    "for i in range(10):\n",
    "    Ar[i] = corr[i]\n",
    "print(Ar)\n",
    "    \n",
    "#Dividing them in categories \n",
    "corr_2 = np.zeros((int(NConf), Nt, nfl, ndir))\n",
    "for c in range(int(NConf)):\n",
    "     for k in range(ndir):\n",
    "        for j in range(nfl):\n",
    "            for i in range(Nt):\n",
    "                corr_2[c][i][j][k] = corr[c*Nt*nfl*ndir + k*nfl*Nt + j*Nt + i]\n",
    "\n",
    "            \n",
    "print(\"Dimensions of corr_2: \", len(corr_2), \" x \", len(corr_2[0]), \" x \", len(corr_2[0][0]), \" x \", len(corr_2[0][0][0]))\n",
    "\n",
    "print(corr_2[0][9][0][0], corr_2[55][9][2][2])\n",
    "\n",
    "Ar2 = np.zeros(10)\n",
    "for i in range(10):\n",
    "    Ar2[i] = corr_2[10][9][0][2]\n",
    "print(Ar2)"
   ]
  },
  {
   "cell_type": "code",
   "execution_count": 37,
   "id": "083a6c6d",
   "metadata": {},
   "outputs": [
    {
     "name": "stdout",
     "output_type": "stream",
     "text": [
      "(1000, 56, 3, 3)\n",
      "0 54\n"
     ]
    }
   ],
   "source": [
    "#Bootstrap resampling\n",
    "import tensorflow as tf\n",
    "\n",
    "\n",
    "Nboot = 1000\n",
    "corr_boot = np.zeros((Nboot, int(NConf), Nt, nfl, ndir))\n",
    "\n",
    "b_index = tf.random.uniform([Nboot, NConf, nfl, ndir], minval=0, maxval=NConf-1, dtype=tf.int32).numpy()\n",
    "print(b_index.shape)\n",
    "print(np.amin(b_index), np.amax(b_index))\n",
    "\n",
    "for b in range(Nboot):\n",
    "    for c in range(int(NConf)):\n",
    "        for i in range(Nt):\n",
    "            for j in range(nfl):\n",
    "                for k in range(ndir):\n",
    "                    corr_boot[b][c][i][j][k] = corr_2[b_index[b][c][j][k]][i][j][k]"
   ]
  },
  {
   "cell_type": "code",
   "execution_count": 38,
   "id": "93554785",
   "metadata": {},
   "outputs": [
    {
     "name": "stdout",
     "output_type": "stream",
     "text": [
      "-0.3907755839555695\n"
     ]
    }
   ],
   "source": [
    "print(corr_boot[19][0][0][0][2])"
   ]
  },
  {
   "cell_type": "code",
   "execution_count": 42,
   "id": "82a2ebc6",
   "metadata": {},
   "outputs": [
    {
     "name": "stdout",
     "output_type": "stream",
     "text": [
      "(1000, 56, 10, 3)\n",
      "[0.44444444 0.11111111 0.11111111]\n",
      "(1000, 56, 10)\n",
      "(1000, 10)\n",
      "[-0.06534811 -0.02358882 -0.00288968 -0.00231961 -0.00045018 -0.00108566\n",
      " -0.00045349 -0.00231903 -0.00289855 -0.02357197]\n",
      "[1.57415540e-10 5.70160211e-11 2.19598897e-11 2.09690612e-11\n",
      " 1.09600314e-11 1.43167063e-11 1.25274079e-11 1.90711748e-11\n",
      " 2.21733086e-11 5.64757005e-11]\n"
     ]
    }
   ],
   "source": [
    "from scipy import stats\n",
    "#Operations on the array\n",
    "\n",
    "#Average on directions\n",
    "b = np.mean(corr_boot, axis=4)\n",
    "print(b.shape)\n",
    "\n",
    "#Weighted sum on flavours\n",
    "weights= np.array((4/9, 1/9, 1/9))\n",
    "print(weights)\n",
    "bm = np.tensordot(b, weights, axes=(-1, 0))\n",
    "print(bm.shape)\n",
    "\n",
    "#Average on configurations\n",
    "cbfin = np.mean(bm, axis=1)/4\n",
    "print(cbfin.shape)\n",
    "\n",
    "#Bootstrap Mean and Sigma\n",
    "def mean(arr):\n",
    "    return sum(arr)/len(arr)\n",
    "def std_dev(arr):\n",
    "    arr_mean = mean(arr)\n",
    "    return (sum([(i - arr_mean)**2 for i in arr]) / (len(arr)-1))\n",
    "\n",
    "cmean = np.zeros(10)\n",
    "csigma = np.zeros(10)\n",
    "for i in range(Nt):\n",
    "    cmean[i] = mean(cbfin[:,i])\n",
    "    csigma[i] = std_dev(cbfin[:,i])\n",
    "\n",
    "print(cmean)\n",
    "print(csigma)"
   ]
  },
  {
   "cell_type": "code",
   "execution_count": 43,
   "id": "7000b620",
   "metadata": {},
   "outputs": [
    {
     "data": {
      "text/plain": [
       "<ErrorbarContainer object of 3 artists>"
      ]
     },
     "execution_count": 43,
     "metadata": {},
     "output_type": "execute_result"
    },
    {
     "data": {
      "image/png": "[encoded data removed]",
      "text/plain": [
       "<Figure size 640x480 with 1 Axes>"
      ]
     },
     "metadata": {},
     "output_type": "display_data"
    }
   ],
   "source": [
    "import matplotlib.pyplot as plt\n",
    "\n",
    "\n",
    "t = np.array(range(0,Nt,1))\n",
    "plt.errorbar(t, cmean, yerr=csigma, fmt='r--', label='fit')"
   ]
  },
  {
   "cell_type": "code",
   "execution_count": null,
   "id": "0825b135",
   "metadata": {},
   "outputs": [],
   "source": []
  }
 ],
 "metadata": {
  "kernelspec": {
   "display_name": "Python 3 (ipykernel)",
   "language": "python",
   "name": "python3"
  },
  "language_info": {
   "codemirror_mode": {
    "name": "ipython",
    "version": 3
   },
   "file_extension": ".py",
   "mimetype": "text/x-python",
   "name": "python",
   "nbconvert_exporter": "python",
   "pygments_lexer": "ipython3",
   "version": "3.11.2"
  }
 },
 "nbformat": 4,
 "nbformat_minor": 5
}
