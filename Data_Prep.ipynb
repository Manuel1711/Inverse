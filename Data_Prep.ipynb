{
 "cells": [
  {
   "cell_type": "code",
   "execution_count": 103,
   "id": "89fc769a",
   "metadata": {},
   "outputs": [
    {
     "name": "stdout",
     "output_type": "stream",
     "text": [
      "Nt = 10 , NConf = 56 , TotDim =  5040\n",
      "5040\n",
      "Dimensions of corr_2:  56  x  10  x  3  x  3\n",
      "-0.3889598401751052 -0.1412132072258582\n"
     ]
    }
   ],
   "source": [
    "import numpy as np\n",
    "\n",
    "nfl = 3\n",
    "ndir = 3\n",
    "corr = []\n",
    "\n",
    "#Reading inputs\n",
    "with open(\"meson_corrs\", \"r\") as f:\n",
    "    read_next = False\n",
    "    Nt = 0\n",
    "    tot = 0\n",
    "    for line in f:\n",
    "        if (\"iop 2\" in line or \"iop 3\" in line or \"iop 4\" in line):\n",
    "            read_next = True \n",
    "        elif (\"#\" in line and (\"iop 2\" not in line or \"iop 3\" not in line or \"iop 4\" not in line)):\n",
    "            read_next = False\n",
    "        elif read_next:\n",
    "            if not line.strip():\n",
    "                Nt = 0;\n",
    "            if line.strip():\n",
    "                columns = line.split()\n",
    "                corr.append(columns[1])\n",
    "                Nt += 1\n",
    "                tot +=1\n",
    "                #print(columns[1])\n",
    "                \n",
    "             \n",
    "NConf = int(tot/(nfl*ndir*count))\n",
    "print(\"Nt =\", Nt,\", NConf =\",NConf, \", TotDim = \", tot)\n",
    "print(len(corr))\n",
    "\n",
    "#Dividing them in categories \n",
    "corr_2 = np.zeros((int(NConf), Nt, nfl, ndir))\n",
    "for c in range(int(NConf)):\n",
    "    for i in range(Nt):\n",
    "        for j in range(nfl):\n",
    "            for k in range(ndir):\n",
    "                corr_2[c][i][j][k] = corr[c*Nt*nfl*ndir + i*nfl*ndir + j*ndir + k]\n",
    "\n",
    "            \n",
    "print(\"Dimensions of corr_2: \", len(corr_2), \" x \", len(corr_2[0]), \" x \", len(corr_2[0][0]), \" x \", len(corr_2[0][0][0]))\n",
    "\n",
    "print(corr_2[0][0][0][0], corr_2[55][9][2][2])"
   ]
  },
  {
   "cell_type": "code",
   "execution_count": 124,
   "id": "fc9622e4",
   "metadata": {},
   "outputs": [
    {
     "name": "stdout",
     "output_type": "stream",
     "text": [
      "(1000, 56, 10, 3, 3)\n",
      "0 54\n"
     ]
    }
   ],
   "source": [
    "#Bootstrap resampling\n",
    "import tensorflow as tf\n",
    "\n",
    "\n",
    "Nboot = 1000\n",
    "corr_boot = np.zeros((Nboot, int(NConf), Nt, nfl, ndir))\n",
    "\n",
    "b_index = tf.random.uniform([Nboot, NConf, Nt, nfl, ndir], minval=0, maxval=NConf-1, dtype=tf.int32).numpy()\n",
    "print(b_index.shape)\n",
    "print(np.amin(b_index), np.amax(b_index))\n",
    "\n",
    "for b in range(Nboot):\n",
    "    for c in range(int(NConf)):\n",
    "        for i in range(Nt):\n",
    "            for j in range(nfl):\n",
    "                for k in range(ndir):\n",
    "                    corr_boot[b][c][i][j][k] = corr_2[b_index[b][c][i][j][k]][i][j][k]"
   ]
  },
  {
   "cell_type": "code",
   "execution_count": 177,
   "id": "a7d221ab",
   "metadata": {},
   "outputs": [
    {
     "name": "stdout",
     "output_type": "stream",
     "text": [
      "(1000, 56, 10, 3)\n",
      "[0.44444444 0.11111111 0.11111111]\n",
      "(1000, 56, 10)\n",
      "(1000, 10)\n",
      "[-0.08368885 -0.10212141 -0.08872146 -0.04666328 -0.03131613 -0.03032359\n",
      " -0.02839207 -0.02972161 -0.02639963 -0.0321877 ]\n",
      "[3.69402502e-05 3.77517418e-05 3.30232414e-05 1.58507053e-05\n",
      " 2.10762627e-05 1.83451104e-05 1.01629565e-05 1.77565091e-05\n",
      " 1.80778765e-05 1.33315663e-05]\n"
     ]
    }
   ],
   "source": [
    "from scipy import stats\n",
    "#Operations on the array\n",
    "\n",
    "#Average on directions\n",
    "b = np.mean(corr_boot, axis=4)\n",
    "print(b.shape)\n",
    "\n",
    "#Weighted sum on flavours\n",
    "weights= np.array((4/9, 1/9, 1/9))\n",
    "print(weights)\n",
    "bm = np.tensordot(b, weights, axes=(-1, 0))\n",
    "print(bm.shape)\n",
    "\n",
    "#Average on configurations\n",
    "cbfin = np.mean(bm, axis=1)\n",
    "print(cbfin.shape)\n",
    "\n",
    "#Bootstrap Mean and Sigma\n",
    "def mean(arr):\n",
    "    return sum(arr)/len(arr)\n",
    "def std_dev(arr):\n",
    "    arr_mean = mean(arr)\n",
    "    return (sum([(i - arr_mean)**2 for i in arr]) / (len(arr)-1))**0.5\n",
    "\n",
    "cmean = np.zeros(10)\n",
    "csigma = np.zeros(10)\n",
    "for i in range(Nt):\n",
    "    cmean[i] = mean(cbfin[:,i])\n",
    "    csigma[i] = std_dev(cbfin[:,i])\n",
    "\n",
    "print(cmean)\n",
    "print(csigma)"
   ]
  },
  {
   "cell_type": "code",
   "execution_count": null,
   "id": "2c3c3c9c",
   "metadata": {},
   "outputs": [],
   "source": []
  }
 ],
 "metadata": {
  "kernelspec": {
   "display_name": "Python 3 (ipykernel)",
   "language": "python",
   "name": "python3"
  },
  "language_info": {
   "codemirror_mode": {
    "name": "ipython",
    "version": 3
   },
   "file_extension": ".py",
   "mimetype": "text/x-python",
   "name": "python",
   "nbconvert_exporter": "python",
   "pygments_lexer": "ipython3",
   "version": "3.11.2"
  }
 },
 "nbformat": 4,
 "nbformat_minor": 5
}
